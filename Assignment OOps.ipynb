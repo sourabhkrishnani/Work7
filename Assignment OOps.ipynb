{
 "cells": [
  {
   "cell_type": "code",
   "execution_count": 2,
   "id": "a74c5633-fbd2-49ec-b52c-600b1e215020",
   "metadata": {},
   "outputs": [],
   "source": [
    "#Q1"
   ]
  },
  {
   "cell_type": "code",
   "execution_count": 3,
   "id": "c6dfa988-927d-404f-98b2-5befbcb3a812",
   "metadata": {},
   "outputs": [
    {
     "name": "stdout",
     "output_type": "stream",
     "text": [
      "Name: Car\n",
      "Max Speed: 200\n",
      "Average Speed: 60\n"
     ]
    }
   ],
   "source": [
    "class Vehicle:\n",
    "    def __init__(self, name_of_vehicle, max_speed, average_of_vehicle):\n",
    "        self.name_of_vehicle = name_of_vehicle\n",
    "        self.max_speed = max_speed\n",
    "        self.average_of_vehicle = average_of_vehicle\n",
    "        \n",
    "    def show(self):\n",
    "        return f\"Name: {self.name_of_vehicle}\\nMax Speed: {self.max_speed}\\nAverage Speed: {self.average_of_vehicle}\"\n",
    "\n",
    "my_vehicle = Vehicle(\"Car\", 200, 60)\n",
    "\n",
    "vehicle_info = my_vehicle.show()\n",
    "print(vehicle_info)\n"
   ]
  },
  {
   "cell_type": "code",
   "execution_count": null,
   "id": "26329da1-484a-4319-9f66-0cc7a7698474",
   "metadata": {},
   "outputs": [],
   "source": [
    "#Q2"
   ]
  },
  {
   "cell_type": "code",
   "execution_count": 7,
   "id": "4a627154-d488-467b-b5b1-86c0933a95e1",
   "metadata": {},
   "outputs": [
    {
     "name": "stdout",
     "output_type": "stream",
     "text": [
      "Vehicle: Sedan\n",
      "Max Speed: 180 km/h\n",
      "Average Speed: 4 km/h\n",
      "Sedan - Seating Capacity: 5\n"
     ]
    }
   ],
   "source": [
    "class Vehicle:\n",
    "    def __init__(self, name_of_vehicle, max_speed, average_of_vehicle):\n",
    "        self.name_of_vehicle = name_of_vehicle\n",
    "        self.max_speed = max_speed\n",
    "        self.average_of_vehicle = average_of_vehicle\n",
    "    \n",
    "    def show(self):\n",
    "        return f\"Vehicle: {self.name_of_vehicle}\\nMax Speed: {self.max_speed} km/h\\nAverage Speed: {self.average_of_vehicle} km/h\"\n",
    "\n",
    "class Car(Vehicle):\n",
    "    def __init__(self, name_of_vehicle, max_speed, average_of_vehicle):\n",
    "        super().__init__(name_of_vehicle, max_speed, average_of_vehicle)\n",
    "    \n",
    "    def seating_capacity(self, capacity):\n",
    "        return f\"{self.name_of_vehicle} - Seating Capacity: {capacity}\"\n",
    "\n",
    "my_car = Car(\"Sedan\", 180, 4)\n",
    "\n",
    "car_info = my_car.show()\n",
    "print(car_info)\n",
    "\n",
    "capacity_info = my_car.seating_capacity(5)\n",
    "print(capacity_info)\n"
   ]
  },
  {
   "cell_type": "code",
   "execution_count": null,
   "id": "8ca7159e-a816-4b76-a30f-94c7a3089eae",
   "metadata": {},
   "outputs": [],
   "source": [
    "#Q3"
   ]
  },
  {
   "cell_type": "code",
   "execution_count": null,
   "id": "76499f65-8a69-49d2-9617-6eecdcd2bf34",
   "metadata": {},
   "outputs": [],
   "source": [
    "What is multiple inheritance? Write a python code to demonstrate multiple inheritance."
   ]
  },
  {
   "cell_type": "markdown",
   "id": "6ae9ed48-90fa-4293-81d6-8e6b91b2ebb3",
   "metadata": {},
   "source": [
    "#When a class is derived from more than one base class it is called multiple Inheritance. The derived class inherits all the features of the base case.\n",
    " "
   ]
  },
  {
   "cell_type": "code",
   "execution_count": 13,
   "id": "c36eb3a4-fd98-42ee-b289-3439aa5019a5",
   "metadata": {},
   "outputs": [
    {
     "name": "stdout",
     "output_type": "stream",
     "text": [
      "Dog says Woof\n",
      "Buddy is fetching the ball.\n"
     ]
    }
   ],
   "source": [
    "class Animal:\n",
    "    def __init__(self, species):\n",
    "        self.species = species\n",
    "    \n",
    "    def speak(self):\n",
    "        pass\n",
    "\n",
    "class Mammal(Animal):\n",
    "    def __init__(self, species, sound):\n",
    "        Animal.__init__(self, species)\n",
    "        self.sound = sound\n",
    "    \n",
    "    def speak(self):\n",
    "        return f\"{self.species} says {self.sound}\"\n",
    "\n",
    "class Pet:\n",
    "    def __init__(self, name):\n",
    "        self.name = name\n",
    "    \n",
    "    def play(self):\n",
    "        pass\n",
    "\n",
    "class Dog(Mammal, Pet):\n",
    "    def __init__(self, name, sound):\n",
    "        Mammal.__init__(self, \"Dog\", sound)\n",
    "        Pet.__init__(self, name)\n",
    "    \n",
    "    def play(self):\n",
    "        return f\"{self.name} is fetching the ball.\"\n",
    "\n",
    "my_dog = Dog(\"Buddy\", \"Woof\")\n",
    "\n",
    "print(my_dog.speak())  \n",
    "print(my_dog.play())   \n"
   ]
  },
  {
   "cell_type": "code",
   "execution_count": 14,
   "id": "2b3654c2-cb66-4d71-bcee-be46fda28898",
   "metadata": {},
   "outputs": [],
   "source": [
    "#Q5"
   ]
  },
  {
   "cell_type": "markdown",
   "id": "a9e1acc4-1c62-4a01-ad2f-b3f32dd9d578",
   "metadata": {},
   "source": [
    "#In Python, getters and setters are methods used to access and modify the attributes of a class in a controlled manner. They are used to encapsulate attribute access, providing more control over how attributes are read and modified. Getters are used to retrieve the value of an attribute, while setters are used to update the value of an attribute."
   ]
  },
  {
   "cell_type": "code",
   "execution_count": 16,
   "id": "64bb5ded-08a1-41c5-8a50-1fbeaad7f82a",
   "metadata": {},
   "outputs": [
    {
     "name": "stdout",
     "output_type": "stream",
     "text": [
      "Name: Sourabh\n",
      "Age: 20\n",
      "New Name: Bob\n",
      "New Age: 25\n"
     ]
    }
   ],
   "source": [
    "class Student:\n",
    "    def __init__(self, name, age):\n",
    "        self._name = name\n",
    "        self._age = age\n",
    "    \n",
    "    # Getter for name attribute\n",
    "    def get_name(self):\n",
    "        return self._name\n",
    "    \n",
    "    # Setter for name attribute\n",
    "    def set_name(self, name):\n",
    "        self._name = name\n",
    "    \n",
    "    # Getter for age attribute\n",
    "    def get_age(self):\n",
    "        return self._age\n",
    "    \n",
    "    # Setter for age attribute\n",
    "    def set_age(self, age):\n",
    "        if age < 0:\n",
    "            print(\"Age cannot be negative.\")\n",
    "        else:\n",
    "            self._age = age\n",
    "\n",
    "student = Student(\"Sourabh\", 20)\n",
    "\n",
    "# Using getter to retrieve attribute values\n",
    "print(f\"Name: {student.get_name()}\")\n",
    "print(f\"Age: {student.get_age()}\")\n",
    "\n",
    "# Using setter to update attribute values\n",
    "student.set_name(\"Bob\")\n",
    "student.set_age(25)\n",
    "\n",
    "print(f\"New Name: {student.get_name()}\")\n",
    "print(f\"New Age: {student.get_age()}\")\n"
   ]
  },
  {
   "cell_type": "code",
   "execution_count": null,
   "id": "09263118-e1c7-4426-91df-f341bf4b1873",
   "metadata": {},
   "outputs": [],
   "source": [
    "#Q5"
   ]
  },
  {
   "cell_type": "markdown",
   "id": "f18c22dc-ae5d-4e13-a701-37bdf4611af6",
   "metadata": {},
   "source": [
    "Method overriding is a concept in object-oriented programming where a subclass provides a specific implementation for a method that is already defined in its superclass. When a subclass overrides a method from its superclass, the subclass's version of the method is used instead of the superclass's version when called on an instance of the subclass."
   ]
  },
  {
   "cell_type": "code",
   "execution_count": 17,
   "id": "d01c699f-9733-46b3-bd53-dcc65013c43e",
   "metadata": {},
   "outputs": [
    {
     "name": "stdout",
     "output_type": "stream",
     "text": [
      "Woof woof!\n",
      "Meow meow!\n"
     ]
    }
   ],
   "source": [
    "class Animal:\n",
    "    def speak(self):\n",
    "        return \"Animal speaks\"\n",
    "\n",
    "class Dog(Animal):\n",
    "    def speak(self):\n",
    "        return \"Woof woof!\"\n",
    "\n",
    "class Cat(Animal):\n",
    "    def speak(self):\n",
    "        return \"Meow meow!\"\n",
    "\n",
    "dog = Dog()\n",
    "cat = Cat()\n",
    "\n",
    "print(dog.speak())  \n",
    "print(cat.speak())  \n"
   ]
  },
  {
   "cell_type": "code",
   "execution_count": null,
   "id": "ff3c2c0a-1c7d-4153-b78f-cac9b3c036e4",
   "metadata": {},
   "outputs": [],
   "source": []
  }
 ],
 "metadata": {
  "kernelspec": {
   "display_name": "Python 3 (ipykernel)",
   "language": "python",
   "name": "python3"
  },
  "language_info": {
   "codemirror_mode": {
    "name": "ipython",
    "version": 3
   },
   "file_extension": ".py",
   "mimetype": "text/x-python",
   "name": "python",
   "nbconvert_exporter": "python",
   "pygments_lexer": "ipython3",
   "version": "3.10.8"
  }
 },
 "nbformat": 4,
 "nbformat_minor": 5
}
